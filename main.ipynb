{
 "cells": [
  {
   "cell_type": "code",
   "execution_count": 3,
   "source": [
    "from selenium import webdriver\r\n",
    "from selenium.webdriver.chrome.options import Options\r\n",
    "from bs4 import BeautifulSoup\r\n",
    "import pandas as pd\r\n",
    "import time\r\n",
    "import config\r\n",
    "########################################################################\r\n",
    "###### Config\r\n",
    "E_TUTOR_LOGIN_URL = config.E_TUTOR_LOGIN_URL\r\n",
    "ACCOUNT = config.ACCOUNT\r\n",
    "PASSWORD = config.PASSWORD\r\n",
    "E_TUTOR_HW_URL = config.E_TUTOR_HW_URL\r\n",
    "PAGE_NUM = config.PAGE_NUM\r\n",
    "OUTPUT_FILE_NAME = config.OUTPUT_FILE_NAME\r\n",
    "WITH_WEIGHT = config.WITH_WEIGHT\r\n",
    "########################################################################\r\n",
    "\r\n",
    "########################################################################\r\n",
    "###### Initialization\r\n",
    "options = Options()\r\n",
    "options.add_argument(\"--disable-notifications\")\r\n",
    " \r\n",
    "chrome = webdriver.Chrome('./chromedriver', chrome_options=options)\r\n",
    "chrome.get(E_TUTOR_LOGIN_URL)\r\n",
    "\r\n",
    "email = chrome.find_element_by_id(\"username\")\r\n",
    "password = chrome.find_element_by_id(\"password\")\r\n",
    "# 請在這十五秒內點完recapcha\r\n",
    "time.sleep(5)\r\n",
    "email.send_keys(ACCOUNT)\r\n",
    "time.sleep(5)\r\n",
    "password.send_keys(PASSWORD)\r\n",
    "time.sleep(5)\r\n",
    "password.submit()\r\n",
    "###### Initialization\r\n",
    "########################################################################"
   ],
   "outputs": [
    {
     "output_type": "stream",
     "name": "stderr",
     "text": [
      "C:\\Users\\SUTZUH~1\\AppData\\Local\\Temp/ipykernel_16304/259470195.py:23: DeprecationWarning: use options instead of chrome_options\n",
      "  chrome = webdriver.Chrome('./chromedriver', chrome_options=options)\n"
     ]
    }
   ],
   "metadata": {}
  },
  {
   "cell_type": "code",
   "execution_count": 10,
   "source": [
    "########################################################################\r\n",
    "###### Methods to Crawl the score\r\n",
    "def get_score(subId, time, name, result, url):\r\n",
    "    chrome.get(url)\r\n",
    "    soupTest = BeautifulSoup(chrome.page_source, 'html.parser')\r\n",
    "    detail = soupTest.find('div',{'id':'test-result-detail'}).find('p').getText()\r\n",
    "    score  = [int(s) for s in detail.split() if s.isdigit()]\r\n",
    "    return {\r\n",
    "        \"Name\" : name,\r\n",
    "        \"SubmitId\" : subId,\r\n",
    "        \"Result\" : result,\r\n",
    "        \"Uploadtime\" : time,\r\n",
    "        \"TotalScore\": score[0],\r\n",
    "        \"TestScore\":score[1]\r\n",
    "    }\r\n",
    "\r\n",
    "\r\n",
    "def get_score_with_weight(subId, time, name, result, url):\r\n",
    "    chrome.get(url)\r\n",
    "    soupTest = BeautifulSoup(chrome.page_source, 'html.parser')\r\n",
    "    detailTable = soupTest.find('table',{'id':'test-result-detail-table'})\r\n",
    "    dflag = False\r\n",
    "    darray = []\r\n",
    "    for detail in detailTable.find_all('tr'):\r\n",
    "        if not dflag:\r\n",
    "            dflag = True\r\n",
    "            continue\r\n",
    "        ddata = []\r\n",
    "        for item in detail.find_all('td'):\r\n",
    "            ddata.append(item.getText())\r\n",
    "        print(ddata)\r\n",
    "        darray.append(ddata)\r\n",
    "    TotalScore = 0\r\n",
    "    TestScore = 0\r\n",
    "    for row in darray:\r\n",
    "        TotalScore += int(row[1])\r\n",
    "        if (row[11] == '是'):\r\n",
    "            TestScore += int(row[1])\r\n",
    "    return {\r\n",
    "        \"Name\" : name,\r\n",
    "        \"SubmitId\" : subId,\r\n",
    "        \"Result\" : result,\r\n",
    "        \"Uploadtime\" : time,\r\n",
    "        \"TotalScore\": TotalScore,\r\n",
    "        \"TestScore\": TestScore\r\n",
    "    }\r\n",
    "\r\n",
    "def get_class_score(class_data):\r\n",
    "    class_score = []\r\n",
    "    for student in class_data:\r\n",
    "        try:\r\n",
    "            if WITH_WEIGHT :\r\n",
    "                score = get_score_with_weight(student[0],student[1],student[2],student[5],student[10])\r\n",
    "            else:\r\n",
    "                score = get_score(student[0],student[1],student[2],student[5],student[10])\r\n",
    "            class_score.append(score)\r\n",
    "        except:\r\n",
    "            print(\"--an error happened--\")\r\n",
    "            print(student)\r\n",
    "            print(\"---------------------\")\r\n",
    "    return class_score\r\n",
    "\r\n",
    "def get_page_data(url,pageNum):\r\n",
    "    Data = []\r\n",
    "    for page in range(pageNum):\r\n",
    "        chrome.get(url+str(page))\r\n",
    "        soup = BeautifulSoup(chrome.page_source, 'html.parser')\r\n",
    "        table = soup.find('table', {'id': 'detail-table'})\r\n",
    "        flag = False\r\n",
    "        for row in table.find_all('tr'):\r\n",
    "            if not flag:\r\n",
    "                # print(row)\r\n",
    "                flag = True\r\n",
    "                continue\r\n",
    "            person = []\r\n",
    "            for d in row.find_all('td'):\r\n",
    "                person.append(d.getText())\r\n",
    "            for a in row.find_all('a', href=True):\r\n",
    "                # print (\"Found the URL:\", a['href'])\r\n",
    "                person.append(a['href'])\r\n",
    "            Data.append(person)\r\n",
    "    return Data\r\n",
    "########################################################################"
   ],
   "outputs": [],
   "metadata": {}
  },
  {
   "cell_type": "code",
   "execution_count": 11,
   "source": [
    "########################################################################\r\n",
    "###### Execute Crawling and export\r\n",
    "PyClass = []\r\n",
    "PyClass = get_page_data(E_TUTOR_HW_URL,PAGE_NUM)\r\n",
    "class_result = get_class_score(PyClass)\r\n",
    "df = pd.DataFrame(class_result)\r\n",
    "df.to_csv(OUTPUT_FILE_NAME)\r\n",
    "########################################################################"
   ],
   "outputs": [
    {
     "output_type": "stream",
     "name": "stdout",
     "text": [
      "--an error happened--\n",
      "['2754026', '2021-10-4 14:42:33', '109030035 丁守靜', '', '162B 7行', '', '', '', 'https://e-tutor.itsa.org.tw/e-Tutor/user/view.php?id=118653&course=2576', 'https://e-tutor.itsa.org.tw/e-Tutor/mod/programming/history.php?a=35755&userid=118653&submitid=2754026']\n",
      "---------------------\n"
     ]
    }
   ],
   "metadata": {}
  }
 ],
 "metadata": {
  "orig_nbformat": 4,
  "language_info": {
   "name": "python",
   "version": "3.9.6",
   "mimetype": "text/x-python",
   "codemirror_mode": {
    "name": "ipython",
    "version": 3
   },
   "pygments_lexer": "ipython3",
   "nbconvert_exporter": "python",
   "file_extension": ".py"
  },
  "kernelspec": {
   "name": "python3",
   "display_name": "Python 3.9.6 64-bit ('py-venv': venv)"
  },
  "interpreter": {
   "hash": "377c6b8d8d89b8bfcdf496f6287654bb008bfe597f5871bd06675aaf996bc158"
  }
 },
 "nbformat": 4,
 "nbformat_minor": 2
}